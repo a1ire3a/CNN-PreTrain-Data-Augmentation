{
  "nbformat": 4,
  "nbformat_minor": 0,
  "metadata": {
    "colab": {
      "name": "Image proc - HW4.ipynb",
      "provenance": [],
      "authorship_tag": "ABX9TyO0YsPdkRvGWOyZm1iZSYz8",
      "include_colab_link": true
    },
    "kernelspec": {
      "name": "python3",
      "display_name": "Python 3"
    },
    "language_info": {
      "name": "python"
    },
    "accelerator": "GPU"
  },
  "cells": [
    {
      "cell_type": "markdown",
      "metadata": {
        "id": "view-in-github",
        "colab_type": "text"
      },
      "source": [
        "<a href=\"https://colab.research.google.com/github/a1ire3a/CNN-PreTrain-Data-Augmentation/blob/main/Image_proc_CNN_PreTrain_DataAug.ipynb\" target=\"_parent\"><img src=\"https://colab.research.google.com/assets/colab-badge.svg\" alt=\"Open In Colab\"/></a>"
      ]
    },
    {
      "cell_type": "markdown",
      "source": [
        "# ***CNN***"
      ],
      "metadata": {
        "id": "L_fbfy7ogUAl"
      }
    },
    {
      "cell_type": "code",
      "execution_count": null,
      "metadata": {
        "id": "A4SBuC8YLLPs"
      },
      "outputs": [],
      "source": [
        "import tensorflow as tf\n",
        "from keras import Input\n",
        "from keras.models import Sequential\n",
        "from keras.layers import Conv2D, Dense, Flatten, MaxPooling2D, Dropout\n",
        "from sklearn.preprocessing import StandardScaler\n",
        "import matplotlib.pyplot as plt"
      ]
    },
    {
      "cell_type": "code",
      "source": [
        "(x_train, y_train), (x_test, y_test) = tf.keras.datasets.cifar10.load_data()"
      ],
      "metadata": {
        "id": "MEwIOdhW3SfK",
        "colab": {
          "base_uri": "https://localhost:8080/"
        },
        "outputId": "4ce6637f-11ea-46e5-ad09-7571e39260a3"
      },
      "execution_count": null,
      "outputs": [
        {
          "output_type": "stream",
          "name": "stdout",
          "text": [
            "Downloading data from https://www.cs.toronto.edu/~kriz/cifar-10-python.tar.gz\n",
            "170500096/170498071 [==============================] - 6s 0us/step\n",
            "170508288/170498071 [==============================] - 6s 0us/step\n"
          ]
        }
      ]
    },
    {
      "cell_type": "markdown",
      "source": [
        "# **Pre-Processing:**"
      ],
      "metadata": {
        "id": "jNCKhlgy5R_D"
      }
    },
    {
      "cell_type": "code",
      "source": [
        "y_train_1hot = tf.keras.utils.to_categorical(y_train, 10)\n",
        "y_test_1hot = tf.keras.utils.to_categorical(y_test, 10)"
      ],
      "metadata": {
        "id": "dcReGe_F40og"
      },
      "execution_count": null,
      "outputs": []
    },
    {
      "cell_type": "code",
      "source": [
        "x_train_std = x_train / 255.0\n",
        "x_test_std = x_test / 255.0"
      ],
      "metadata": {
        "id": "h6u8WHDO6dSO"
      },
      "execution_count": null,
      "outputs": []
    },
    {
      "cell_type": "markdown",
      "source": [
        "# **CNN:**"
      ],
      "metadata": {
        "id": "J88Xeroy4UGE"
      }
    },
    {
      "cell_type": "code",
      "source": [
        "model = Sequential()\n",
        "#model.add(Conv2D(32, (3, 3), padding='same', activation='relu', input_shape=(32, 32, 3)))\n",
        "model.add(Conv2D(32, (3, 3), activation='relu', kernel_initializer='he_uniform', padding='same', input_shape=(32, 32, 3)))\n",
        "model.add(Conv2D(32, (3, 3), activation='relu', kernel_initializer='he_uniform', padding='same'))\n",
        "#model.add(Conv2D(32, (3, 3), activation='relu', padding='same'))\n",
        "model.add(MaxPooling2D((2, 2)))\n",
        "model.add(Conv2D(64, (3, 3), activation='relu', kernel_initializer='he_uniform', padding='same'))\n",
        "model.add(Conv2D(64, (3, 3), activation='relu', kernel_initializer='he_uniform', padding='same'))\n",
        "#model.add(Conv2D(64, (3, 3), activation='relu', padding='same'))\n",
        "model.add(MaxPooling2D((2, 2)))\n",
        "model.add(Conv2D(128, (3, 3), activation='relu', kernel_initializer='he_uniform', padding='same'))\n",
        "model.add(Conv2D(128, (3, 3), activation='relu', kernel_initializer='he_uniform', padding='same'))\n",
        "#model.add(Conv2D(128, (3, 3), activation='relu', padding='same'))\n",
        "model.add(MaxPooling2D((2, 2)))\n",
        "model.add(Flatten())\n",
        "model.add(Dense(128, activation='relu', kernel_initializer='he_uniform'))\n",
        "model.add(Dropout(0.5))\n",
        "model.add(Dense(10, activation='softmax'))\n",
        "model.summary()"
      ],
      "metadata": {
        "colab": {
          "base_uri": "https://localhost:8080/"
        },
        "id": "2b4Ptbj03pOf",
        "outputId": "b26ba27b-7887-4916-b5be-940eb460ccd4"
      },
      "execution_count": null,
      "outputs": [
        {
          "output_type": "stream",
          "name": "stdout",
          "text": [
            "Model: \"sequential\"\n",
            "_________________________________________________________________\n",
            " Layer (type)                Output Shape              Param #   \n",
            "=================================================================\n",
            " conv2d (Conv2D)             (None, 32, 32, 32)        896       \n",
            "                                                                 \n",
            " conv2d_1 (Conv2D)           (None, 32, 32, 32)        9248      \n",
            "                                                                 \n",
            " conv2d_2 (Conv2D)           (None, 32, 32, 32)        9248      \n",
            "                                                                 \n",
            " max_pooling2d (MaxPooling2D  (None, 16, 16, 32)       0         \n",
            " )                                                               \n",
            "                                                                 \n",
            " conv2d_3 (Conv2D)           (None, 16, 16, 64)        18496     \n",
            "                                                                 \n",
            " conv2d_4 (Conv2D)           (None, 16, 16, 64)        36928     \n",
            "                                                                 \n",
            " max_pooling2d_1 (MaxPooling  (None, 8, 8, 64)         0         \n",
            " 2D)                                                             \n",
            "                                                                 \n",
            " conv2d_5 (Conv2D)           (None, 8, 8, 128)         73856     \n",
            "                                                                 \n",
            " conv2d_6 (Conv2D)           (None, 8, 8, 128)         147584    \n",
            "                                                                 \n",
            " max_pooling2d_2 (MaxPooling  (None, 4, 4, 128)        0         \n",
            " 2D)                                                             \n",
            "                                                                 \n",
            " flatten (Flatten)           (None, 2048)              0         \n",
            "                                                                 \n",
            " dense (Dense)               (None, 128)               262272    \n",
            "                                                                 \n",
            " dropout (Dropout)           (None, 128)               0         \n",
            "                                                                 \n",
            " dense_1 (Dense)             (None, 10)                1290      \n",
            "                                                                 \n",
            "=================================================================\n",
            "Total params: 559,818\n",
            "Trainable params: 559,818\n",
            "Non-trainable params: 0\n",
            "_________________________________________________________________\n"
          ]
        }
      ]
    },
    {
      "cell_type": "code",
      "source": [
        "model.compile(optimizer='adam' ,loss=tf.keras.losses.CategoricalCrossentropy(), metrics=['accuracy'])\n",
        "\n",
        "rep = model.fit(x_train_std, y_train_1hot, epochs=10, validation_data=(x_test_std, y_test_1hot))"
      ],
      "metadata": {
        "colab": {
          "base_uri": "https://localhost:8080/"
        },
        "id": "DQHO0hbg4r5A",
        "outputId": "17885233-af0d-479a-fab6-a3b8fac47e56"
      },
      "execution_count": null,
      "outputs": [
        {
          "output_type": "stream",
          "name": "stdout",
          "text": [
            "Epoch 1/10\n",
            "1563/1563 [==============================] - 12s 7ms/step - loss: 1.6351 - accuracy: 0.3961 - val_loss: 1.1866 - val_accuracy: 0.5776\n",
            "Epoch 2/10\n",
            "1563/1563 [==============================] - 11s 7ms/step - loss: 1.1377 - accuracy: 0.5995 - val_loss: 1.0172 - val_accuracy: 0.6500\n",
            "Epoch 3/10\n",
            "1563/1563 [==============================] - 11s 7ms/step - loss: 0.9339 - accuracy: 0.6741 - val_loss: 0.8412 - val_accuracy: 0.7072\n",
            "Epoch 4/10\n",
            "1563/1563 [==============================] - 11s 7ms/step - loss: 0.8065 - accuracy: 0.7242 - val_loss: 0.7863 - val_accuracy: 0.7253\n",
            "Epoch 5/10\n",
            "1563/1563 [==============================] - 11s 7ms/step - loss: 0.7159 - accuracy: 0.7522 - val_loss: 0.7489 - val_accuracy: 0.7424\n",
            "Epoch 6/10\n",
            "1563/1563 [==============================] - 11s 7ms/step - loss: 0.6475 - accuracy: 0.7788 - val_loss: 0.7253 - val_accuracy: 0.7563\n",
            "Epoch 7/10\n",
            "1563/1563 [==============================] - 11s 7ms/step - loss: 0.5888 - accuracy: 0.7972 - val_loss: 0.7153 - val_accuracy: 0.7625\n",
            "Epoch 8/10\n",
            "1563/1563 [==============================] - 11s 7ms/step - loss: 0.5422 - accuracy: 0.8121 - val_loss: 0.7637 - val_accuracy: 0.7582\n",
            "Epoch 9/10\n",
            "1563/1563 [==============================] - 11s 7ms/step - loss: 0.4970 - accuracy: 0.8284 - val_loss: 0.7695 - val_accuracy: 0.7591\n",
            "Epoch 10/10\n",
            "1563/1563 [==============================] - 11s 7ms/step - loss: 0.4646 - accuracy: 0.8394 - val_loss: 0.7327 - val_accuracy: 0.7691\n"
          ]
        }
      ]
    },
    {
      "cell_type": "markdown",
      "source": [
        "مدل برای 10 ایپاک اجرا شده است"
      ],
      "metadata": {
        "id": "lwIdmq4ijihs"
      }
    },
    {
      "cell_type": "code",
      "source": [
        "plt.plot(rep.history['accuracy'], label='accuracy')\n",
        "plt.plot(rep.history['val_accuracy'], label = 'val_accuracy')\n",
        "plt.xlabel('Epoch')\n",
        "plt.ylabel('Accuracy')\n",
        "plt.ylim([0, 1])\n",
        "plt.legend(loc='lower right')"
      ],
      "metadata": {
        "colab": {
          "base_uri": "https://localhost:8080/",
          "height": 301
        },
        "id": "JUyDL_3L8KUJ",
        "outputId": "1a5ef348-1852-4b3e-e585-41807994e108"
      },
      "execution_count": null,
      "outputs": [
        {
          "output_type": "execute_result",
          "data": {
            "text/plain": [
              "<matplotlib.legend.Legend at 0x7fd65247f9d0>"
            ]
          },
          "metadata": {},
          "execution_count": 18
        },
        {
          "output_type": "display_data",
          "data": {
            "image/png": "[encoded data removed]",
            "text/plain": [
              "<Figure size 432x288 with 1 Axes>"
            ]
          },
          "metadata": {
            "needs_background": "light"
          }
        }
      ]
    },
    {
      "cell_type": "code",
      "source": [
        "plt.plot(rep.history['loss'], label='loss')\n",
        "plt.plot(rep.history['val_loss'], label = 'val_loss')\n",
        "plt.xlabel('Epoch')\n",
        "plt.ylabel('Loss')\n",
        "plt.ylim([0, 2])\n",
        "plt.legend(loc='lower right')"
      ],
      "metadata": {
        "colab": {
          "base_uri": "https://localhost:8080/",
          "height": 301
        },
        "id": "6-4W1I1R8M4w",
        "outputId": "34f708ac-e2e5-4a64-9582-45a786927fd8"
      },
      "execution_count": null,
      "outputs": [
        {
          "output_type": "execute_result",
          "data": {
            "text/plain": [
              "<matplotlib.legend.Legend at 0x7fd6d0186dd0>"
            ]
          },
          "metadata": {},
          "execution_count": 19
        },
        {
          "output_type": "display_data",
          "data": {
            "image/png": "[encoded data removed]",
            "text/plain": [
              "<Figure size 432x288 with 1 Axes>"
            ]
          },
          "metadata": {
            "needs_background": "light"
          }
        }
      ]
    },
    {
      "cell_type": "markdown",
      "source": [
        "# **Pre-Train:**"
      ],
      "metadata": {
        "id": "knT0t_iKVhCC"
      }
    },
    {
      "cell_type": "code",
      "source": [
        "from keras.applications import vgg16\n",
        "#from keras.applications import resnet_v2"
      ],
      "metadata": {
        "id": "edXX0p-6XKI-"
      },
      "execution_count": null,
      "outputs": []
    },
    {
      "cell_type": "markdown",
      "source": [
        "برای مدل از پیش تعریف شده، از دو مدل \n",
        "\n",
        "resnet , vgg16\n",
        "\n",
        "استفاده کردم که \n",
        "\n",
        "resnet\n",
        "\n",
        " به علت اینکه نتیجه خوبی نمیگرفت کامنت شده و فقط نتایج برای \n",
        "\n",
        " vgg16\n",
        "\n",
        " ارزیابی شده است"
      ],
      "metadata": {
        "id": "szDwAPlpk8XC"
      }
    },
    {
      "cell_type": "code",
      "source": [
        "base_model = vgg16.VGG16(include_top=False,weights='imagenet',input_shape=(32,32,3),classes=y_train_1hot.shape[1])\n",
        "#base_model = resnet_v2.ResNet50V2(include_top=False,weights='imagenet',input_shape=(32,32,3),classes=y_train_1hot.shape[1])"
      ],
      "metadata": {
        "id": "JC8S3q3fYFxa",
        "colab": {
          "base_uri": "https://localhost:8080/"
        },
        "outputId": "a9728c96-de23-4595-d99c-4e61446f4cdb"
      },
      "execution_count": null,
      "outputs": [
        {
          "output_type": "stream",
          "name": "stdout",
          "text": [
            "Downloading data from https://storage.googleapis.com/tensorflow/keras-applications/vgg16/vgg16_weights_tf_dim_ordering_tf_kernels_notop.h5\n",
            "58892288/58889256 [==============================] - 0s 0us/step\n",
            "58900480/58889256 [==============================] - 0s 0us/step\n"
          ]
        }
      ]
    },
    {
      "cell_type": "code",
      "source": [
        "for layer in base_model.layers[:16]:\n",
        "  layer.trainable = False\n",
        "for layer in base_model.layers[16:]:\n",
        "  layer.trainable = True\n",
        "for i, layer in enumerate(base_model.layers):\n",
        "    print(i, layer.name, layer.trainable)"
      ],
      "metadata": {
        "colab": {
          "base_uri": "https://localhost:8080/"
        },
        "id": "C-R28vhmirm7",
        "outputId": "d746a8a2-ff11-411f-8b41-d9a22e0ebf21"
      },
      "execution_count": null,
      "outputs": [
        {
          "output_type": "stream",
          "name": "stdout",
          "text": [
            "0 input_1 False\n",
            "1 block1_conv1 False\n",
            "2 block1_conv2 False\n",
            "3 block1_pool False\n",
            "4 block2_conv1 False\n",
            "5 block2_conv2 False\n",
            "6 block2_pool False\n",
            "7 block3_conv1 False\n",
            "8 block3_conv2 False\n",
            "9 block3_conv3 False\n",
            "10 block3_pool False\n",
            "11 block4_conv1 False\n",
            "12 block4_conv2 False\n",
            "13 block4_conv3 False\n",
            "14 block4_pool False\n",
            "15 block5_conv1 False\n",
            "16 block5_conv2 True\n",
            "17 block5_conv3 True\n",
            "18 block5_pool True\n"
          ]
        }
      ]
    },
    {
      "cell_type": "code",
      "source": [
        "ptModel = Sequential()\n",
        "ptModel.add(base_model)\n",
        "ptModel.add(Flatten())\n",
        "#ptModel.add(Dense(128, activation='relu'))\n",
        "#ptModel.add(Dropout(0.5))\n",
        "#ptModel.add(Dense(10, activation='softmax'))\n",
        "\n",
        "#ptModel.add(Dense(1024,activation=('relu'),input_dim=512))\n",
        "ptModel.add(Dense(512,activation=('relu'))) \n",
        "#ptModel.add(Dense(256,activation=('relu'))) \n",
        "#model_1.add(Dropout(.3))#Adding a dropout layer that will randomly drop 30% of the weights\n",
        "ptModel.add(Dense(128,activation=('relu')))\n",
        "#model_1.add(Dropout(.2))\n",
        "ptModel.add(Dense(10,activation=('softmax'))) #This is the classification layer\n",
        "\n",
        "ptModel.summary()"
      ],
      "metadata": {
        "colab": {
          "base_uri": "https://localhost:8080/"
        },
        "id": "DzWBt6I8VndK",
        "outputId": "7abe8046-f9a8-4e54-c7bd-629ee18779a2"
      },
      "execution_count": null,
      "outputs": [
        {
          "output_type": "stream",
          "name": "stdout",
          "text": [
            "Model: \"sequential\"\n",
            "_________________________________________________________________\n",
            " Layer (type)                Output Shape              Param #   \n",
            "=================================================================\n",
            " vgg16 (Functional)          (None, 1, 1, 512)         14714688  \n",
            "                                                                 \n",
            " flatten (Flatten)           (None, 512)               0         \n",
            "                                                                 \n",
            " dense (Dense)               (None, 512)               262656    \n",
            "                                                                 \n",
            " dense_1 (Dense)             (None, 128)               65664     \n",
            "                                                                 \n",
            " dense_2 (Dense)             (None, 10)                1290      \n",
            "                                                                 \n",
            "=================================================================\n",
            "Total params: 15,044,298\n",
            "Trainable params: 10,324,682\n",
            "Non-trainable params: 4,719,616\n",
            "_________________________________________________________________\n"
          ]
        }
      ]
    },
    {
      "cell_type": "code",
      "source": [
        "ptModel.compile(optimizer='adam' ,loss=tf.keras.losses.CategoricalCrossentropy(), metrics=['accuracy'])\n",
        "\n",
        "rep = ptModel.fit(x_train_std, y_train_1hot, epochs=10, validation_data=(x_test_std, y_test_1hot))"
      ],
      "metadata": {
        "colab": {
          "base_uri": "https://localhost:8080/"
        },
        "id": "rqrSZx39b65R",
        "outputId": "fe908b62-d280-4c18-dcac-845ac78cea39"
      },
      "execution_count": null,
      "outputs": [
        {
          "output_type": "stream",
          "name": "stdout",
          "text": [
            "Epoch 1/10\n",
            "1563/1563 [==============================] - 54s 29ms/step - loss: 1.7401 - accuracy: 0.3051 - val_loss: 1.3354 - val_accuracy: 0.4696\n",
            "Epoch 2/10\n",
            "1563/1563 [==============================] - 47s 30ms/step - loss: 1.2211 - accuracy: 0.5460 - val_loss: 1.0437 - val_accuracy: 0.6225\n",
            "Epoch 3/10\n",
            "1563/1563 [==============================] - 43s 28ms/step - loss: 0.9217 - accuracy: 0.6792 - val_loss: 0.8307 - val_accuracy: 0.7180\n",
            "Epoch 4/10\n",
            "1563/1563 [==============================] - 45s 29ms/step - loss: 0.7595 - accuracy: 0.7431 - val_loss: 0.8408 - val_accuracy: 0.7286\n",
            "Epoch 5/10\n",
            "1563/1563 [==============================] - 43s 27ms/step - loss: 0.6378 - accuracy: 0.7859 - val_loss: 0.7509 - val_accuracy: 0.7620\n",
            "Epoch 6/10\n",
            "1563/1563 [==============================] - 43s 28ms/step - loss: 0.5560 - accuracy: 0.8183 - val_loss: 0.7530 - val_accuracy: 0.7620\n",
            "Epoch 7/10\n",
            "1563/1563 [==============================] - 43s 27ms/step - loss: 0.4939 - accuracy: 0.8388 - val_loss: 0.6724 - val_accuracy: 0.7854\n",
            "Epoch 8/10\n",
            "1563/1563 [==============================] - 43s 27ms/step - loss: 0.4256 - accuracy: 0.8608 - val_loss: 0.7360 - val_accuracy: 0.7661\n",
            "Epoch 9/10\n",
            "1563/1563 [==============================] - 43s 28ms/step - loss: 0.3829 - accuracy: 0.8754 - val_loss: 0.6607 - val_accuracy: 0.7952\n",
            "Epoch 10/10\n",
            "1563/1563 [==============================] - 43s 28ms/step - loss: 0.3483 - accuracy: 0.8854 - val_loss: 0.6777 - val_accuracy: 0.7933\n"
          ]
        }
      ]
    },
    {
      "cell_type": "code",
      "source": [
        "plt.plot(rep.history['accuracy'], label='accuracy')\n",
        "plt.plot(rep.history['val_accuracy'], label = 'val_accuracy')\n",
        "plt.xlabel('Epoch')\n",
        "plt.ylabel('Accuracy')\n",
        "plt.ylim([0, 1])\n",
        "plt.legend(loc='lower right')"
      ],
      "metadata": {
        "colab": {
          "base_uri": "https://localhost:8080/",
          "height": 301
        },
        "id": "sN8p-0j7v3W5",
        "outputId": "f54cc921-83d0-4c71-eda9-6d8721a53eb0"
      },
      "execution_count": null,
      "outputs": [
        {
          "output_type": "execute_result",
          "data": {
            "text/plain": [
              "<matplotlib.legend.Legend at 0x7fdf7679c350>"
            ]
          },
          "metadata": {},
          "execution_count": 10
        },
        {
          "output_type": "display_data",
          "data": {
            "image/png": "[encoded data removed]",
            "text/plain": [
              "<Figure size 432x288 with 1 Axes>"
            ]
          },
          "metadata": {
            "needs_background": "light"
          }
        }
      ]
    },
    {
      "cell_type": "markdown",
      "source": [
        "اختلاف 10تایی بین دقت ها در ایپاک های اخر بیانگر این است که مدل نزدیک به اورفیت شدن است."
      ],
      "metadata": {
        "id": "0RN-Q0inpBiU"
      }
    },
    {
      "cell_type": "code",
      "source": [
        "plt.plot(rep.history['loss'], label='loss')\n",
        "plt.plot(rep.history['val_loss'], label = 'val_loss')\n",
        "plt.xlabel('Epoch')\n",
        "plt.ylabel('Loss')\n",
        "plt.ylim([0, 2])\n",
        "plt.legend(loc='lower right')"
      ],
      "metadata": {
        "colab": {
          "base_uri": "https://localhost:8080/",
          "height": 301
        },
        "id": "qtZ94Xbrv7lw",
        "outputId": "fddbc4f6-e408-4c2e-e0ed-1176d0cccfd7"
      },
      "execution_count": null,
      "outputs": [
        {
          "output_type": "execute_result",
          "data": {
            "text/plain": [
              "<matplotlib.legend.Legend at 0x7fdfe0232790>"
            ]
          },
          "metadata": {},
          "execution_count": 11
        },
        {
          "output_type": "display_data",
          "data": {
            "image/png": "[encoded data removed]",
            "text/plain": [
              "<Figure size 432x288 with 1 Axes>"
            ]
          },
          "metadata": {
            "needs_background": "light"
          }
        }
      ]
    },
    {
      "cell_type": "markdown",
      "source": [
        "# **Data Augmentation:**"
      ],
      "metadata": {
        "id": "_b8u4-d8wEv5"
      }
    },
    {
      "cell_type": "code",
      "source": [
        "from tensorflow.keras.preprocessing.image import ImageDataGenerator"
      ],
      "metadata": {
        "id": "W3qL_kxuwOjE"
      },
      "execution_count": null,
      "outputs": []
    },
    {
      "cell_type": "code",
      "source": [
        "datagen = ImageDataGenerator(\n",
        "    #featurewise_center=True, \n",
        "    #samplewise_center=True,\n",
        "    rotation_range=20,\n",
        "    horizontal_flip=True,\n",
        "    #vertical_flip=True\n",
        "    #width_shift_range=0.1,\n",
        "    #height_shift_range=0.1\n",
        "    #zoom_range=0.3\n",
        "    rescale=2,\n",
        "    fill_mode=\"constant\"\n",
        "    )\n",
        "datagen.fit(x_train_std)"
      ],
      "metadata": {
        "id": "Img34gKV29Yi"
      },
      "execution_count": null,
      "outputs": []
    },
    {
      "cell_type": "code",
      "source": [
        "model.compile(optimizer='adam' ,loss=tf.keras.losses.CategoricalCrossentropy(), metrics=['accuracy'])"
      ],
      "metadata": {
        "id": "NoZFIxDO4tFM"
      },
      "execution_count": null,
      "outputs": []
    },
    {
      "cell_type": "code",
      "source": [
        "rep = model.fit_generator(datagen.flow(x_train_std, y_train_1hot, batch_size=128),\n",
        "                    steps_per_epoch = len(x_train_std) / 128, epochs=10, validation_data=(x_test_std, y_test_1hot))"
      ],
      "metadata": {
        "colab": {
          "base_uri": "https://localhost:8080/"
        },
        "id": "EQwIrqc84u9p",
        "outputId": "bac523e3-7313-4679-ffbb-f5ee335fd529"
      },
      "execution_count": null,
      "outputs": [
        {
          "output_type": "stream",
          "name": "stderr",
          "text": [
            "/usr/local/lib/python3.7/dist-packages/ipykernel_launcher.py:2: UserWarning: `Model.fit_generator` is deprecated and will be removed in a future version. Please use `Model.fit`, which supports generators.\n",
            "  \n"
          ]
        },
        {
          "output_type": "stream",
          "name": "stdout",
          "text": [
            "Epoch 1/10\n",
            "390/390 [==============================] - 38s 96ms/step - loss: 0.6218 - accuracy: 0.7917 - val_loss: 0.6683 - val_accuracy: 0.7839\n",
            "Epoch 2/10\n",
            "390/390 [==============================] - 38s 98ms/step - loss: 0.5294 - accuracy: 0.8207 - val_loss: 0.5744 - val_accuracy: 0.8125\n",
            "Epoch 3/10\n",
            "390/390 [==============================] - 37s 94ms/step - loss: 0.4965 - accuracy: 0.8317 - val_loss: 0.5441 - val_accuracy: 0.8182\n",
            "Epoch 4/10\n",
            "390/390 [==============================] - 37s 94ms/step - loss: 0.4718 - accuracy: 0.8405 - val_loss: 0.5604 - val_accuracy: 0.8101\n",
            "Epoch 5/10\n",
            "390/390 [==============================] - 36s 93ms/step - loss: 0.4578 - accuracy: 0.8446 - val_loss: 0.4859 - val_accuracy: 0.8363\n",
            "Epoch 6/10\n",
            "390/390 [==============================] - 36s 92ms/step - loss: 0.4444 - accuracy: 0.8478 - val_loss: 0.5092 - val_accuracy: 0.8293\n",
            "Epoch 7/10\n",
            "390/390 [==============================] - 36s 92ms/step - loss: 0.4409 - accuracy: 0.8506 - val_loss: 0.5453 - val_accuracy: 0.8188\n",
            "Epoch 8/10\n",
            "390/390 [==============================] - 36s 93ms/step - loss: 0.4305 - accuracy: 0.8536 - val_loss: 0.5256 - val_accuracy: 0.8218\n",
            "Epoch 9/10\n",
            "390/390 [==============================] - 36s 93ms/step - loss: 0.4209 - accuracy: 0.8568 - val_loss: 0.5118 - val_accuracy: 0.8277\n",
            "Epoch 10/10\n",
            "390/390 [==============================] - 36s 93ms/step - loss: 0.4091 - accuracy: 0.8616 - val_loss: 0.5301 - val_accuracy: 0.8269\n"
          ]
        }
      ]
    },
    {
      "cell_type": "code",
      "source": [
        "plt.plot(rep.history['accuracy'], label='accuracy')\n",
        "plt.plot(rep.history['val_accuracy'], label = 'val_accuracy')\n",
        "plt.xlabel('Epoch')\n",
        "plt.ylabel('Accuracy')\n",
        "plt.ylim([0, 1])\n",
        "plt.legend(loc='lower right')"
      ],
      "metadata": {
        "colab": {
          "base_uri": "https://localhost:8080/",
          "height": 301
        },
        "id": "eqRi0gbeddgL",
        "outputId": "a52682a3-3549-4679-ae32-bae11b94597c"
      },
      "execution_count": null,
      "outputs": [
        {
          "output_type": "execute_result",
          "data": {
            "text/plain": [
              "<matplotlib.legend.Legend at 0x7fa8e2199950>"
            ]
          },
          "metadata": {},
          "execution_count": 28
        },
        {
          "output_type": "display_data",
          "data": {
            "image/png": "[encoded data removed]",
            "text/plain": [
              "<Figure size 432x288 with 1 Axes>"
            ]
          },
          "metadata": {
            "needs_background": "light"
          }
        }
      ]
    },
    {
      "cell_type": "code",
      "source": [
        "plt.plot(rep.history['loss'], label='loss')\n",
        "plt.plot(rep.history['val_loss'], label = 'val_loss')\n",
        "plt.xlabel('Epoch')\n",
        "plt.ylabel('Loss')\n",
        "plt.ylim([0, 2])\n",
        "plt.legend(loc='lower right')"
      ],
      "metadata": {
        "id": "e2wUlTbjdglS",
        "outputId": "f5269a9c-85c9-45b2-e08a-1034fc5c51c4",
        "colab": {
          "base_uri": "https://localhost:8080/",
          "height": 301
        }
      },
      "execution_count": null,
      "outputs": [
        {
          "output_type": "execute_result",
          "data": {
            "text/plain": [
              "<matplotlib.legend.Legend at 0x7fa8e20db090>"
            ]
          },
          "metadata": {},
          "execution_count": 29
        },
        {
          "output_type": "display_data",
          "data": {
            "image/png": "[encoded data removed]",
            "text/plain": [
              "<Figure size 432x288 with 1 Axes>"
            ]
          },
          "metadata": {
            "needs_background": "light"
          }
        }
      ]
    }
  ]
}